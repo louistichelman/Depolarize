{
 "cells": [
  {
   "cell_type": "markdown",
   "metadata": {},
   "source": [
    "# Run Dynamic Programming and Q-learning for Simple Depolarize Problem"
   ]
  },
  {
   "cell_type": "markdown",
   "metadata": {},
   "source": [
    "# Initialize Environment"
   ]
  },
  {
   "cell_type": "code",
   "execution_count": null,
   "metadata": {},
   "outputs": [
    {
     "name": "stderr",
     "output_type": "stream",
     "text": [
      "Generating states: 100%|██████████| 7/7 [00:06<00:00,  1.13it/s]"
     ]
    },
    {
     "name": "stdout",
     "output_type": "stream",
     "text": [
      "Environment has 2666 unique states.\n"
     ]
    },
    {
     "name": "stderr",
     "output_type": "stream",
     "text": [
      "\n"
     ]
    }
   ],
   "source": [
    "import env.fj_depolarize_simple as ds\n",
    "import importlib\n",
    "importlib.reload(ds)\n",
    "\n",
    "n_nodes=5\n",
    "k_steps=2\n",
    "max_edges = 4\n",
    "\n",
    "env = ds.DepolarizeSimple(n=n_nodes, k=k_steps, max_edges=max_edges)\n",
    "print(f\"Environment has {len(env.states)} unique states.\")"
   ]
  },
  {
   "cell_type": "markdown",
   "metadata": {},
   "source": [
    "# Run Dynamic Programming (Policy Iteration)"
   ]
  },
  {
   "cell_type": "code",
   "execution_count": null,
   "metadata": {},
   "outputs": [
    {
     "name": "stdout",
     "output_type": "stream",
     "text": [
      "V and pi have been saved to 'saved files/dynamic_programming_solutions/dp_n5_k2.pkl'.\n"
     ]
    }
   ],
   "source": [
    "import agents.dynamic_programming as dp\n",
    "importlib.reload(dp)\n",
    "\n",
    "agent_dp = dp.DynamicProgramming(env)\n",
    "V, pi = agent_dp.run()"
   ]
  },
  {
   "cell_type": "markdown",
   "metadata": {},
   "source": [
    "#### Save the value function and policy to a file\n"
   ]
  },
  {
   "cell_type": "code",
   "execution_count": null,
   "metadata": {},
   "outputs": [],
   "source": [
    "import pickle\n",
    "\n",
    "with open(f'saved files/dynamic_programming_solutions/dp_n{n_nodes}_k{k_steps}.pkl', 'wb') as f:\n",
    "    pickle.dump({'V': V, 'pi': pi}, f)\n",
    "print(f\"V and pi have been saved to 'saved files/dynamic_programming_solutions/dp_n{n_nodes}_k{k_steps}.pkl'.\")"
   ]
  },
  {
   "cell_type": "markdown",
   "metadata": {},
   "source": [
    "#### If saved earlier: Load fitted value function from file\n"
   ]
  },
  {
   "cell_type": "code",
   "execution_count": 35,
   "metadata": {},
   "outputs": [
    {
     "name": "stdout",
     "output_type": "stream",
     "text": [
      "Loaded V and pi from 'saved files/dynamic_programming_solutions/dp_n4_k2.pkl'.\n"
     ]
    }
   ],
   "source": [
    "import agents.dynamic_programming as dp\n",
    "import pickle\n",
    "\n",
    "with open(f'saved files/dynamic_programming_solutions/dp_n{n_nodes}_k{k_steps}.pkl', 'rb') as f:\n",
    "    data = pickle.load(f)\n",
    "    V = data['V']\n",
    "    pi = data['pi']\n",
    "agent_pol_it = dp.DynamicProgramming(env, V=V, pi=pi)\n",
    "print(f\"Loaded V and pi from 'saved files/dynamic_programming_solutions/dp_n{n_nodes}_k{k_steps}.pkl'.\")"
   ]
  },
  {
   "cell_type": "markdown",
   "metadata": {},
   "source": [
    "# Run Q-learning"
   ]
  },
  {
   "cell_type": "code",
   "execution_count": null,
   "metadata": {},
   "outputs": [
    {
     "data": {
      "text/plain": [
       "<module 'agents.q_learning' from '/Users/louistichelman/Documents/Uni/Masterarbeit/Playground/agents/q_learning.py'>"
      ]
     },
     "execution_count": 67,
     "metadata": {},
     "output_type": "execute_result"
    }
   ],
   "source": [
    "import agents.q_learning as q_learning\n",
    "importlib.reload(q_learning)\n",
    "\n",
    "agent_qlearning = q_learning.QLearning(env)\n",
    "\n",
    "q_table = agent_qlearning.train(\n",
    "    n_training_episodes=100000,\n",
    "    min_epsilon=0.2,\n",
    "    max_epsilon=1.0,\n",
    "    decay_rate=0.000005,\n",
    "    learning_rate=1\n",
    ")"
   ]
  },
  {
   "cell_type": "markdown",
   "metadata": {},
   "source": [
    "#### Save the Q-table to a file"
   ]
  },
  {
   "cell_type": "code",
   "execution_count": 55,
   "metadata": {},
   "outputs": [
    {
     "name": "stdout",
     "output_type": "stream",
     "text": [
      "Q-table has been saved to 'saved files/q_learning_solutions/q_n5_k2.pkl'.\n"
     ]
    }
   ],
   "source": [
    "import pickle\n",
    "\n",
    "with open(f'saved files/q_learning_solutions/q_n{n_nodes}_k{k_steps}.pkl', 'wb') as f:\n",
    "    pickle.dump(q_table, f)\n",
    "print(f\"Q-table has been saved to 'saved files/q_learning_solutions/q_n{n_nodes}_k{k_steps}.pkl'.\")"
   ]
  },
  {
   "cell_type": "markdown",
   "metadata": {},
   "source": [
    "#### If saved earlier, load Q-table from file"
   ]
  },
  {
   "cell_type": "code",
   "execution_count": 68,
   "metadata": {},
   "outputs": [
    {
     "name": "stdout",
     "output_type": "stream",
     "text": [
      "Q-table has been loaded and agent initialized.\n"
     ]
    }
   ],
   "source": [
    "import pickle\n",
    "import agents.q_learning as q_learning\n",
    "\n",
    "with open(f'saved files/q_learning_solutions/q_n{n_nodes}_k{k_steps}.pkl', 'rb') as f:\n",
    "    q_table = pickle.load(f)\n",
    "\n",
    "agent_qlearning = q_learning.QLearning(env)\n",
    "agent_qlearning.q_table = q_table\n",
    "print(\"Q-table has been loaded and agent initialized.\")"
   ]
  },
  {
   "cell_type": "markdown",
   "metadata": {},
   "source": [
    "# Evaluate Policy"
   ]
  },
  {
   "cell_type": "markdown",
   "metadata": {},
   "source": [
    "### 1 - Compute optimal solutions for every starting state"
   ]
  },
  {
   "cell_type": "code",
   "execution_count": 62,
   "metadata": {},
   "outputs": [
    {
     "name": "stderr",
     "output_type": "stream",
     "text": [
      "Computing optimal solutions: 100%|██████████| 188/188 [00:03<00:00, 48.33it/s]"
     ]
    },
    {
     "name": "stdout",
     "output_type": "stream",
     "text": [
      "Optimal solutions have been saved to 'saved files/optimal_solutions/optimal_solutions_n5_k2.pkl'.\n"
     ]
    },
    {
     "name": "stderr",
     "output_type": "stream",
     "text": [
      "\n"
     ]
    }
   ],
   "source": [
    "from tqdm import tqdm\n",
    "import utils.evaluation as ev\n",
    "importlib.reload(ev)\n",
    "\n",
    "optimal_solutions = {}\n",
    "\n",
    "for state in tqdm(env.starting_states, desc=\"Computing optimal solutions\"):\n",
    "    G_optimal, polarization_optimal = ev.depolarize_optimal(state, env)\n",
    "    optimal_solutions[state] = (G_optimal, polarization_optimal)\n",
    "\n",
    "with open(f'saved files/optimal_solutions/optimal_solutions_n{n_nodes}_k{k_steps}.pkl', 'wb') as f:\n",
    "    pickle.dump(optimal_solutions, f)\n",
    "print(f\"Optimal solutions have been saved to 'saved files/optimal_solutions/optimal_solutions_n{n_nodes}_k{k_steps}.pkl'.\")"
   ]
  },
  {
   "cell_type": "markdown",
   "metadata": {},
   "source": [
    "#### If saved earlier: Load optimal solutions from file"
   ]
  },
  {
   "cell_type": "code",
   "execution_count": 63,
   "metadata": {},
   "outputs": [
    {
     "name": "stdout",
     "output_type": "stream",
     "text": [
      "Optimal solutions have been loaded.\n"
     ]
    }
   ],
   "source": [
    "import pickle\n",
    "\n",
    "with open(f'saved files/optimal_solutions/optimal_solutions_n{n_nodes}_k{k_steps}.pkl', 'rb') as f:\n",
    "    optimal_solutions = pickle.load(f)\n",
    "print(\"Optimal solutions have been loaded.\")"
   ]
  },
  {
   "cell_type": "markdown",
   "metadata": {},
   "source": [
    "### 2 - Compute number of optimal solutions for DP, Q-learning and Greedy Algorithm"
   ]
  },
  {
   "cell_type": "code",
   "execution_count": null,
   "metadata": {},
   "outputs": [
    {
     "name": "stderr",
     "output_type": "stream",
     "text": [
      "100%|██████████| 188/188 [00:01<00:00, 138.20it/s]"
     ]
    },
    {
     "name": "stdout",
     "output_type": "stream",
     "text": [
      "Non-optimal solutions for Dynamic Programming: 0\n",
      "Non-optimal solutions for Q-learning: 0\n",
      "Non-optimal solutions for greedy strategy: 16\n"
     ]
    },
    {
     "name": "stderr",
     "output_type": "stream",
     "text": [
      "\n"
     ]
    }
   ],
   "source": [
    "import utils.evaluation as ev\n",
    "importlib.reload(ev)\n",
    "\n",
    "epsilon = 1e-6\n",
    "non_optimal_solutions_dp = 0\n",
    "non_optimal_solutions_qlearning = 0\n",
    "non_optimal_solutions_greedy= 0\n",
    "\n",
    "for state in tqdm(env.starting_states):\n",
    "    _, polarization_optimal = optimal_solutions[state]\n",
    "    _, polarization_dp = ev.depolarize_policy(state, env, agent_dp.policy_greedy)\n",
    "    _, polarization_qlearning = ev.depolarize_policy(state, env, agent_qlearning.policy_greedy)\n",
    "    _, polarization_greedy = ev.depolarize_greedy(state, env)\n",
    "    if abs(polarization_dp - polarization_optimal) > epsilon:\n",
    "        non_optimal_solutions_dp += 1\n",
    "    if abs(polarization_qlearning - polarization_optimal) > epsilon:\n",
    "        non_optimal_solutions_qlearning += 1\n",
    "    if abs(polarization_greedy - polarization_optimal) > epsilon:\n",
    "        non_optimal_solutions_greedy += 1\n",
    "print(f\"Non-optimal solutions for Dynamic Programming: {non_optimal_solutions_dp}\")\n",
    "print(f\"Non-optimal solutions for Q-learning: {non_optimal_solutions_qlearning}\")\n",
    "print(f\"Non-optimal solutions for greedy strategy: {non_optimal_solutions_greedy}\")"
   ]
  },
  {
   "cell_type": "markdown",
   "metadata": {},
   "source": [
    "# Visualize Trajectory"
   ]
  },
  {
   "cell_type": "code",
   "execution_count": null,
   "metadata": {},
   "outputs": [
    {
     "data": {
      "image/png": "[encoded data removed]",
      "text/plain": [
       "<Figure size 300x300 with 1 Axes>"
      ]
     },
     "metadata": {},
     "output_type": "display_data"
    },
    {
     "data": {
      "image/png": "[encoded data removed]",
      "text/plain": [
       "<Figure size 300x300 with 1 Axes>"
      ]
     },
     "metadata": {},
     "output_type": "display_data"
    },
    {
     "data": {
      "image/png": "[encoded data removed]",
      "text/plain": [
       "<Figure size 300x300 with 1 Axes>"
      ]
     },
     "metadata": {},
     "output_type": "display_data"
    }
   ],
   "source": [
    "import utils.visualization as vis\n",
    "importlib.reload(vis)\n",
    "\n",
    "policy = agent_dp.policy_greedy\n",
    "# policy = agent_qlearning.policy_greedy\n",
    "\n",
    "random_state = env.reset()\n",
    "\n",
    "vis.visualize_tracetory(random_state, env, policy)"
   ]
  }
 ],
 "metadata": {
  "kernelspec": {
   "display_name": "master1",
   "language": "python",
   "name": "python3"
  },
  "language_info": {
   "codemirror_mode": {
    "name": "ipython",
    "version": 3
   },
   "file_extension": ".py",
   "mimetype": "text/x-python",
   "name": "python",
   "nbconvert_exporter": "python",
   "pygments_lexer": "ipython3",
   "version": "3.10.16"
  }
 },
 "nbformat": 4,
 "nbformat_minor": 2
}
