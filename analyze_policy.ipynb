{
 "cells": [
  {
   "cell_type": "code",
   "execution_count": 1,
   "id": "ff3e3c59",
   "metadata": {},
   "outputs": [],
   "source": [
    "import os\n",
    "import json\n",
    "import torch\n",
    "\n",
    "from agents.dqn import DQN\n",
    "from env import ENVIRONMENT_REGISTRY"
   ]
  },
  {
   "cell_type": "code",
   "execution_count": 14,
   "id": "ceea73a3",
   "metadata": {},
   "outputs": [
    {
     "data": {
      "text/plain": [
       "<All keys matched successfully>"
      ]
     },
     "execution_count": 14,
     "metadata": {},
     "output_type": "execute_result"
    }
   ],
   "source": [
    "# run_name = \"Graphormer-complex-n150-k0-hd64-layers3-lr0.0001-heads4-bs128-p1-g0.5-tuf8000-UHXQQ\"\n",
    "run_name = \"Graphormer-complex-n25-k0-hd64-layers3-lr0.0001-heads4-bs64-p1-g0.5-tuf4000-R5SX2\"\n",
    "\n",
    "# Find directory of run\n",
    "if os.path.exists(\n",
    "    os.path.join(\"results\", \"dqn\", \"friedkin-johnson\", \"runs\", run_name)\n",
    "):\n",
    "    run_dir = os.path.join(\"results\", \"dqn\", \"friedkin-johnson\", \"runs\", run_name)\n",
    "else:\n",
    "    run_dir = os.path.join(\"results\", \"dqn\", \"nonlinear\", \"runs\", run_name)\n",
    "\n",
    "# Load parameters\n",
    "with open(os.path.join(run_dir, \"params_env.json\"), \"r\") as f:\n",
    "    params_env = json.load(f)\n",
    "with open(os.path.join(run_dir, \"params_agent.json\"), \"r\") as f:\n",
    "    params_agent = json.load(f)\n",
    "\n",
    "env = ENVIRONMENT_REGISTRY[params_env[\"environment\"]](**params_env)\n",
    "agent = DQN(**params_agent)\n",
    "\n",
    "# Load saved model weights\n",
    "q_net_path = os.path.join(run_dir, \"q_network_params.pth\")\n",
    "target_net_path = os.path.join(run_dir, \"target_network_params.pth\")\n",
    "\n",
    "# Load model weights into agent\n",
    "agent.q_network.load_state_dict(\n",
    "    torch.load(q_net_path, map_location=torch.device(\"cpu\"))\n",
    ")\n",
    "agent.target_network.load_state_dict(\n",
    "    torch.load(target_net_path, map_location=torch.device(\"cpu\"))\n",
    ")\n",
    "\n"
   ]
  },
  {
   "cell_type": "code",
   "execution_count": 15,
   "id": "a395cffa",
   "metadata": {},
   "outputs": [],
   "source": [
    "folder = \"val\"\n",
    "\n",
    "with open(os.path.join(\"data\", params_env[\"environment\"], folder, f\"start_states_{folder}_n{params_env['n']}_d{params_env['average_degree']}.pt\"), \"rb\") as f:\n",
    "    test_states = torch.load(f, weights_only=False)"
   ]
  },
  {
   "cell_type": "code",
   "execution_count": 16,
   "id": "f1a9a5f3",
   "metadata": {},
   "outputs": [],
   "source": [
    "state = test_states[0]"
   ]
  },
  {
   "cell_type": "code",
   "execution_count": 17,
   "id": "05526c7c",
   "metadata": {},
   "outputs": [
    {
     "data": {
      "text/plain": [
       "7"
      ]
     },
     "execution_count": 17,
     "metadata": {},
     "output_type": "execute_result"
    }
   ],
   "source": [
    "agent.policy_greedy(state)"
   ]
  },
  {
   "cell_type": "code",
   "execution_count": 8,
   "id": "6e86125f",
   "metadata": {},
   "outputs": [],
   "source": [
    "new_state, _, _ = env.step(state = state, action=10)\n"
   ]
  },
  {
   "cell_type": "code",
   "execution_count": 29,
   "id": "90883bed",
   "metadata": {},
   "outputs": [
    {
     "name": "stdout",
     "output_type": "stream",
     "text": [
      "tau: 19, opinion: 1.5091\n",
      "action: 15, opinion: -3.5225\n",
      "influence: 0.0295\n",
      "connected: False\n",
      "------------\n",
      "tau: 19, opinion: 1.5089\n",
      "action: 14, opinion: 0.1551\n",
      "influence: 0.0392\n",
      "connected: True\n",
      "------------\n",
      "tau: 19, opinion: 1.5088\n",
      "action: 14, opinion: 0.1542\n",
      "influence: 0.0287\n",
      "connected: False\n",
      "------------\n",
      "tau: 19, opinion: 1.5085\n",
      "action: 21, opinion: 0.0532\n",
      "influence: 0.0426\n",
      "connected: True\n",
      "------------\n",
      "tau: 19, opinion: 1.5084\n",
      "action: 21, opinion: 0.0526\n",
      "influence: 0.0325\n",
      "connected: False\n",
      "------------\n"
     ]
    }
   ],
   "source": [
    "q_value_list = []\n",
    "for _ in range(10):\n",
    "    action, q_values = agent.policy_greedy(new_state, give_q_valaues=True)\n",
    "    if new_state[\"tau\"] is not None:\n",
    "        print(f\"tau: {new_state['tau']}, opinion: {new_state['sigma'][new_state['tau']]:.4f}\")\n",
    "        q_value_list.append(q_values.numpy())\n",
    "        print(f\"action: {action}, opinion: {new_state['sigma'][action]:.4f}\")\n",
    "        print(f\"influence: {new_state['influence_matrix'][new_state['tau'], action]:.4f}\")\n",
    "        print(f\"connected: {new_state['graph'].has_edge(new_state['tau'], action)}\")\n",
    "        print(\"------------\")\n",
    "    new_state, _, _ = env.step(state = new_state, action=action)"
   ]
  },
  {
   "cell_type": "code",
   "execution_count": 125,
   "id": "4636b3cb",
   "metadata": {},
   "outputs": [],
   "source": [
    "import copy\n",
    "\n",
    "q_value_list = []\n",
    "states = []\n",
    "states_deep = []\n",
    "for _ in range(10):\n",
    "    action, q_values = agent.policy_greedy(new_state, give_q_valaues=True)\n",
    "    new_state, _, _ = env.step(state = new_state, action=action)\n",
    "    states.append(new_state)\n",
    "    states_deep.append(copy.deepcopy(new_state))\n",
    "    for i in range(len(states)):\n",
    "        if not (states[i][\"influence_matrix\"] == states_deep[i][\"influence_matrix\"]).all():\n",
    "            print(\"not equal!\")\n",
    "        if not states[i][\"graph\"].edges() == states_deep[i][\"graph\"].edges():\n",
    "            print(\"not equal graph!\")\n",
    "        if not (states[i][\"sigma\"] == states_deep[i][\"sigma\"]):\n",
    "            print(\"not equal sigma!\")\n",
    "        if states[i][\"tau\"] != states_deep[i][\"tau\"]:\n",
    "            print(\"not equal tau!\")\n",
    "        _, influence_matrix = env.polarization(\n",
    "            states_deep[i][\"graph\"], states_deep[i][\"sigma\"], keep_influence_matrix=True\n",
    "        )\n",
    "        if not (states_deep[i][\"influence_matrix\"] == influence_matrix).all():\n",
    "            print(\"not equal influence matrix!\")"
   ]
  },
  {
   "cell_type": "code",
   "execution_count": 120,
   "id": "6e59430b",
   "metadata": {},
   "outputs": [
    {
     "data": {
      "text/plain": [
       "np.True_"
      ]
     },
     "execution_count": 120,
     "metadata": {},
     "output_type": "execute_result"
    }
   ],
   "source": [
    "(states[0][\"influence_matrix\"] == states_deep[0][\"influence_matrix\"]).all()"
   ]
  },
  {
   "cell_type": "code",
   "execution_count": 116,
   "id": "5e1ad577",
   "metadata": {},
   "outputs": [
    {
     "name": "stdout",
     "output_type": "stream",
     "text": [
      "Edges only in states[0][\"graph\"]: set()\n",
      "Edges only in states_deep[0][\"graph\"]: set()\n"
     ]
    }
   ],
   "source": [
    "import networkx as nx\n",
    "\n",
    "edges_states = set(states[0][\"graph\"].edges())\n",
    "edges_states_deep = set(states_deep[0][\"graph\"].edges())\n",
    "\n",
    "edges_only_in_states = edges_states - edges_states_deep\n",
    "edges_only_in_states_deep = edges_states_deep - edges_states\n",
    "\n",
    "print(\"Edges only in states[0][\\\"graph\\\"]:\", edges_only_in_states)\n",
    "print(\"Edges only in states_deep[0][\\\"graph\\\"]:\", edges_only_in_states_deep)"
   ]
  },
  {
   "cell_type": "code",
   "execution_count": 75,
   "id": "93c0076e",
   "metadata": {},
   "outputs": [
    {
     "data": {
      "text/plain": [
       "20"
      ]
     },
     "execution_count": 75,
     "metadata": {},
     "output_type": "execute_result"
    }
   ],
   "source": [
    "new_state[\"tau\"]"
   ]
  },
  {
   "cell_type": "code",
   "execution_count": 82,
   "id": "171eb0f4",
   "metadata": {},
   "outputs": [
    {
     "data": {
      "text/plain": [
       "False"
      ]
     },
     "execution_count": 82,
     "metadata": {},
     "output_type": "execute_result"
    }
   ],
   "source": [
    "new_state[\"graph\"].has_edge(new_state[\"tau\"], 10)"
   ]
  },
  {
   "cell_type": "code",
   "execution_count": 77,
   "id": "a5c96a19",
   "metadata": {},
   "outputs": [],
   "source": [
    "next_state, _, _ = env.step(state = new_state, action=10)"
   ]
  },
  {
   "cell_type": "code",
   "execution_count": 81,
   "id": "3ade297e",
   "metadata": {},
   "outputs": [
    {
     "data": {
      "text/plain": [
       "True"
      ]
     },
     "execution_count": 81,
     "metadata": {},
     "output_type": "execute_result"
    }
   ],
   "source": [
    "next_state[\"graph\"].has_edge(new_state[\"tau\"], 10)"
   ]
  },
  {
   "cell_type": "code",
   "execution_count": null,
   "id": "b0dec64c",
   "metadata": {},
   "outputs": [],
   "source": []
  },
  {
   "cell_type": "code",
   "execution_count": 30,
   "id": "0f6b31b9",
   "metadata": {},
   "outputs": [
    {
     "data": {
      "text/plain": [
       "array([-2.49072909e-05, -2.97389925e-05,  3.07746232e-05, -2.63378024e-05,\n",
       "       -2.19345093e-05, -1.05015934e-05,  2.39275396e-05, -3.23727727e-06,\n",
       "       -3.17506492e-05, -1.17868185e-05, -1.55642629e-05,  2.04518437e-05,\n",
       "        1.12466514e-05, -1.92187726e-05,  6.17876649e-05, -5.06639481e-06,\n",
       "       -2.60584056e-05,  6.94394112e-06, -2.58199871e-05, -3.50289047e-05,\n",
       "       -2.69301236e-05, -1.13397837e-05, -2.83494592e-06, -2.44379044e-06,\n",
       "       -2.54586339e-05], dtype=float32)"
      ]
     },
     "execution_count": 30,
     "metadata": {},
     "output_type": "execute_result"
    }
   ],
   "source": [
    "len(q_value_list)\n",
    "i=2\n",
    "\n",
    "q_value_list[i]-q_value_list[i+1]"
   ]
  },
  {
   "cell_type": "code",
   "execution_count": 86,
   "id": "5ce81a9f",
   "metadata": {},
   "outputs": [
    {
     "data": {
      "text/plain": [
       "20"
      ]
     },
     "execution_count": 86,
     "metadata": {},
     "output_type": "execute_result"
    }
   ],
   "source": [
    "new_state[\"tau\"]"
   ]
  },
  {
   "cell_type": "code",
   "execution_count": 22,
   "id": "2a57a75e",
   "metadata": {},
   "outputs": [
    {
     "data": {
      "text/plain": [
       "[82, 83, 84, 87, 88, 130]"
      ]
     },
     "execution_count": 22,
     "metadata": {},
     "output_type": "execute_result"
    }
   ],
   "source": [
    "list(new_state[\"graph\"].neighbors(new_state[\"tau\"]))"
   ]
  },
  {
   "cell_type": "code",
   "execution_count": 52,
   "id": "0d307bfb",
   "metadata": {},
   "outputs": [],
   "source": [
    "new_state[\"tau\"] = 20\n",
    "new_state[\"graph\"].remove_edge(new_state[\"tau\"], 10)"
   ]
  },
  {
   "cell_type": "code",
   "execution_count": 87,
   "id": "c8185ce5",
   "metadata": {},
   "outputs": [
    {
     "data": {
      "text/plain": [
       "False"
      ]
     },
     "execution_count": 87,
     "metadata": {},
     "output_type": "execute_result"
    }
   ],
   "source": [
    "new_state[\"graph\"].has_edge(new_state[\"tau\"], 10)"
   ]
  },
  {
   "cell_type": "code",
   "execution_count": 99,
   "id": "33e38d0a",
   "metadata": {},
   "outputs": [],
   "source": [
    "state_1 = new_state.copy()\n",
    "\n",
    "state_2 = new_state.copy()\n",
    "state_2[\"graph\"] = new_state[\"graph\"].copy()\n",
    "state_2[\"graph\"].add_edge(state_2[\"tau\"], 10)\n",
    "_, state_2[\"influence_matrix\"] = env.polarization(\n",
    "    state_2[\"graph\"], state_2[\"sigma\"], keep_influence_matrix=True\n",
    ")"
   ]
  },
  {
   "cell_type": "code",
   "execution_count": 101,
   "id": "79885434",
   "metadata": {},
   "outputs": [
    {
     "data": {
      "text/plain": [
       "True"
      ]
     },
     "execution_count": 101,
     "metadata": {},
     "output_type": "execute_result"
    }
   ],
   "source": [
    "state_2[\"graph\"].has_edge(20, 10)\n"
   ]
  },
  {
   "cell_type": "code",
   "execution_count": 96,
   "id": "8958bb42",
   "metadata": {},
   "outputs": [
    {
     "data": {
      "text/plain": [
       "20"
      ]
     },
     "execution_count": 96,
     "metadata": {},
     "output_type": "execute_result"
    }
   ],
   "source": [
    "state_1[\"tau\"]"
   ]
  },
  {
   "cell_type": "code",
   "execution_count": 106,
   "id": "9b022872",
   "metadata": {},
   "outputs": [
    {
     "data": {
      "text/plain": [
       "np.float64(-0.022951210310512976)"
      ]
     },
     "execution_count": 106,
     "metadata": {},
     "output_type": "execute_result"
    }
   ],
   "source": [
    "state_1[\"influence_matrix\"][state_2[\"tau\"], 10] - state_2[\"influence_matrix\"][state_2[\"tau\"], 10]"
   ]
  },
  {
   "cell_type": "code",
   "execution_count": 108,
   "id": "30da86ce",
   "metadata": {},
   "outputs": [
    {
     "data": {
      "text/plain": [
       "np.float64(-0.001412126433256753)"
      ]
     },
     "execution_count": 108,
     "metadata": {},
     "output_type": "execute_result"
    }
   ],
   "source": [
    "state_1[\"influence_matrix\"][state_2[\"tau\"], 3] - state_2[\"influence_matrix\"][state_2[\"tau\"], 3]"
   ]
  },
  {
   "cell_type": "code",
   "execution_count": 102,
   "id": "7ee9af9a",
   "metadata": {},
   "outputs": [
    {
     "name": "stdout",
     "output_type": "stream",
     "text": [
      "tensor(0.0084)\n",
      "tensor(-3.3967e-05)\n"
     ]
    }
   ],
   "source": [
    "\n",
    "\n",
    "action_a, q_values_a = agent.policy_greedy(state_1, give_q_valaues=True)\n",
    "print(q_values_a[10])\n",
    "\n",
    "action_b, q_values_b = agent.policy_greedy(state_2, give_q_valaues=True)\n",
    "print(q_values_b[10] - q_values_a[10])\n",
    "\n",
    "\n",
    "# print(f\"action a: {action_a}, q-value: {q_values_a[action_a]:.4f}\")\n",
    "# print(f\"action b: {action_b}, q-value: {q_values_b[action_b]:.4f}\")\n",
    "\n",
    "# q_values_a-q_values_b"
   ]
  },
  {
   "cell_type": "code",
   "execution_count": 103,
   "id": "6e3f69e3",
   "metadata": {},
   "outputs": [
    {
     "data": {
      "text/plain": [
       "tensor([1.5862e-04, 1.0468e-04, 1.5494e-04, 1.6586e-04, 1.5870e-04, 2.7613e-04,\n",
       "        2.7766e-04, 1.8785e-04, 1.7016e-04, 3.0415e-04, 3.3967e-05, 3.3998e-04,\n",
       "        3.0028e-04, 2.8304e-04, 2.7713e-04, 6.9220e-05, 1.0245e-04, 2.8350e-04,\n",
       "        1.4885e-04, 2.5722e-04, 7.6663e-05, 2.7640e-04, 1.4079e-04, 2.7892e-04,\n",
       "        1.5984e-04])"
      ]
     },
     "execution_count": 103,
     "metadata": {},
     "output_type": "execute_result"
    }
   ],
   "source": [
    "q_values_a-q_values_b"
   ]
  }
 ],
 "metadata": {
  "kernelspec": {
   "display_name": "master1",
   "language": "python",
   "name": "python3"
  },
  "language_info": {
   "codemirror_mode": {
    "name": "ipython",
    "version": 3
   },
   "file_extension": ".py",
   "mimetype": "text/x-python",
   "name": "python",
   "nbconvert_exporter": "python",
   "pygments_lexer": "ipython3",
   "version": "3.10.16"
  }
 },
 "nbformat": 4,
 "nbformat_minor": 5
}
